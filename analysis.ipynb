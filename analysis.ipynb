{
 "cells": [
  {
   "cell_type": "markdown",
   "metadata": {},
   "source": [
    "# Example: Comparison"
   ]
  },
  {
   "cell_type": "markdown",
   "metadata": {},
   "source": [
    "There is technically only one dependecy needed: `tensorflow-data-validation`."
   ]
  },
  {
   "cell_type": "code",
   "execution_count": null,
   "metadata": {},
   "outputs": [],
   "source": [
    "%pip install -U -r requirements.txt"
   ]
  },
  {
   "cell_type": "code",
   "execution_count": null,
   "metadata": {},
   "outputs": [],
   "source": [
    "import pandas as pd\n",
    "import tensorflow_data_validation as dv"
   ]
  },
  {
   "cell_type": "code",
   "execution_count": null,
   "metadata": {},
   "outputs": [],
   "source": [
    "pd.set_option('display.max_columns', 10)"
   ]
  },
  {
   "cell_type": "markdown",
   "metadata": {},
   "source": [
    "## Data"
   ]
  },
  {
   "cell_type": "markdown",
   "metadata": {},
   "source": [
    "First, let us load some data. In this example, we use data extracted from the\n",
    "[Global Health Data Exchange](source).\n",
    "\n",
    "[source]: http://ghdx.healthdata.org/gbd-results-tool?params=gbd-api-2017-permalink/361bd5bf7237ace4d279fcc9e1daf5bd"
   ]
  },
  {
   "cell_type": "code",
   "execution_count": null,
   "metadata": {},
   "outputs": [],
   "source": [
    "data_narrow = pd.read_csv('data/data.csv')\n",
    "data_narrow.head()"
   ]
  },
  {
   "cell_type": "markdown",
   "metadata": {},
   "source": [
    "Second, we explore briefly how the data look like using the same tool that will\n",
    "be used for comparison purpose shortly:"
   ]
  },
  {
   "cell_type": "code",
   "execution_count": null,
   "metadata": {},
   "outputs": [],
   "source": [
    "statistics = dv.generate_statistics_from_dataframe(data_narrow, n_jobs=-1)\n",
    "dv.visualize_statistics(statistics)"
   ]
  },
  {
   "cell_type": "markdown",
   "metadata": {},
   "source": [
    "It can be seen that `age`, `measure`, and `sex` can be dropped, as they are\n",
    "constant, and that there are 195 locations and 21 causes of death, which are\n",
    "quantified using 3 metrics. The data are given in a narrow format. To make the\n",
    "comparison more interesting, let us convert the data into a wide format:"
   ]
  },
  {
   "cell_type": "code",
   "execution_count": null,
   "metadata": {},
   "outputs": [],
   "source": [
    "data_wide = pd.pivot_table(data_narrow,\n",
    "                           index=['location', 'year'],\n",
    "                           columns=['cause', 'metric'],\n",
    "                           values='val')\n",
    "data_wide.columns = data_wide.columns.to_flat_index()\n",
    "data_wide.columns = map(': '.join, data_wide.columns.values)\n",
    "data_wide.reset_index(inplace=True)\n",
    "data_wide.head()"
   ]
  },
  {
   "cell_type": "markdown",
   "metadata": {},
   "source": [
    "Lastly, let us split the data into two so there is something to compare:"
   ]
  },
  {
   "cell_type": "code",
   "execution_count": null,
   "metadata": {},
   "outputs": [],
   "source": [
    "data_1 = data_wide.query('year >= 2000 and year < 2010')\n",
    "data_2 = data_wide.query('year >= 2010 and year < 2018')"
   ]
  },
  {
   "cell_type": "markdown",
   "metadata": {},
   "source": [
    "It can be seen that we are to compare data for 2000–2009 with data for\n",
    "2010–2017."
   ]
  },
  {
   "cell_type": "markdown",
   "metadata": {},
   "source": [
    "## Comparison"
   ]
  },
  {
   "cell_type": "markdown",
   "metadata": {},
   "source": [
    "Once the data are ready, the comparison itself takes three lines:"
   ]
  },
  {
   "cell_type": "code",
   "execution_count": null,
   "metadata": {},
   "outputs": [],
   "source": [
    "statistics_1 = dv.generate_statistics_from_dataframe(data_1, n_jobs=-1)\n",
    "statistics_2 = dv.generate_statistics_from_dataframe(data_2, n_jobs=-1)"
   ]
  },
  {
   "cell_type": "code",
   "execution_count": null,
   "metadata": {},
   "outputs": [],
   "source": [
    "dv.visualize_statistics(lhs_statistics=statistics_1,\n",
    "                        rhs_statistics=statistics_2)"
   ]
  }
 ],
 "metadata": {
  "kernelspec": {
   "display_name": "Python 3",
   "language": "python",
   "name": "python3"
  }
 },
 "nbformat": 4,
 "nbformat_minor": 4
}
