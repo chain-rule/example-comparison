{
 "cells": [
  {
   "cell_type": "markdown",
   "metadata": {},
   "source": [
    "# Example: Comparison"
   ]
  },
  {
   "cell_type": "markdown",
   "metadata": {},
   "source": [
    "## Dependencies"
   ]
  },
  {
   "cell_type": "markdown",
   "metadata": {},
   "source": [
    "There is technically only one package needed: `tensorflow-data-validation`.\n",
    "However, `tfx-bsl` is also used internally and does not get installed with the\n",
    "first."
   ]
  },
  {
   "cell_type": "code",
   "execution_count": null,
   "metadata": {},
   "outputs": [],
   "source": [
    "%pip install -U tensorflow_data_validation"
   ]
  },
  {
   "cell_type": "code",
   "execution_count": null,
   "metadata": {},
   "outputs": [],
   "source": [
    "%pip install -U tfx-bsl"
   ]
  },
  {
   "cell_type": "code",
   "execution_count": null,
   "metadata": {},
   "outputs": [],
   "source": [
    "import pandas as pd\n",
    "import tensorflow_data_validation as dv"
   ]
  },
  {
   "cell_type": "markdown",
   "metadata": {},
   "source": [
    "## Data"
   ]
  },
  {
   "cell_type": "markdown",
   "metadata": {},
   "source": [
    "In this example, we shall use the [UCI Census Income][source] dataset. It does\n",
    "not come any standard format and hence requires some effort to load.\n",
    "\n",
    "[source]: http://archive.ics.uci.edu/ml/datasets/Census+Income"
   ]
  },
  {
   "cell_type": "code",
   "execution_count": null,
   "metadata": {},
   "outputs": [],
   "source": [
    "names = [\n",
    "    'Age',\n",
    "    'WorkClass',\n",
    "    'FinalSamplingWeight',\n",
    "    'Education',\n",
    "    'EducationNumber',\n",
    "    'MaritalStatus',\n",
    "    'Occupation',\n",
    "    'Relationship',\n",
    "    'Race',\n",
    "    'Sex',\n",
    "    'CapitalGain',\n",
    "    'CapitalLoss',\n",
    "    'HoursPerWeek',\n",
    "    'NativeCountry',\n",
    "    'Income',\n",
    "]"
   ]
  },
  {
   "cell_type": "code",
   "execution_count": null,
   "metadata": {},
   "outputs": [],
   "source": [
    "data_1 = pd.read_csv(\n",
    "    'http://archive.ics.uci.edu/ml/machine-learning-databases/adult/adult.data',\n",
    "    names=names, engine='python', sep=r'\\s*,\\s*', na_values='?')\n",
    "data_1.head()"
   ]
  },
  {
   "cell_type": "code",
   "execution_count": null,
   "metadata": {},
   "outputs": [],
   "source": [
    "data_2 = pd.read_csv(\n",
    "    'http://archive.ics.uci.edu/ml/machine-learning-databases/adult/adult.test',\n",
    "    names=names, engine='python', sep=r'\\s*,\\s*', na_values='?', skiprows=1)\n",
    "data_2.head()"
   ]
  },
  {
   "cell_type": "markdown",
   "metadata": {},
   "source": [
    "## Comparison"
   ]
  },
  {
   "cell_type": "markdown",
   "metadata": {},
   "source": [
    "Once the data are ready, the comparison itself takes three lines:"
   ]
  },
  {
   "cell_type": "code",
   "execution_count": null,
   "metadata": {},
   "outputs": [],
   "source": [
    "statistics_1 = dv.generate_statistics_from_dataframe(data_1, n_jobs=-1)\n",
    "statistics_2 = dv.generate_statistics_from_dataframe(data_2, n_jobs=-1)"
   ]
  },
  {
   "cell_type": "code",
   "execution_count": null,
   "metadata": {},
   "outputs": [],
   "source": [
    "dv.visualize_statistics(lhs_statistics=statistics_1,\n",
    "                        rhs_statistics=statistics_2)"
   ]
  }
 ],
 "metadata": {
  "kernelspec": {
   "display_name": "Python 3",
   "language": "python",
   "name": "python3"
  }
 },
 "nbformat": 4,
 "nbformat_minor": 4
}
